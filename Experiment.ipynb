{
 "cells": [
  {
   "cell_type": "markdown",
   "id": "3f941a5a",
   "metadata": {},
   "source": [
    "# Data Science Tools and Ecosystem"
   ]
  },
  {
   "cell_type": "markdown",
   "id": "3ccc52cf",
   "metadata": {},
   "source": [
    "### Lets get going Tapiwa"
   ]
  },
  {
   "cell_type": "markdown",
   "id": "11114f5c",
   "metadata": {},
   "source": [
    "**Okay Chibaba**"
   ]
  },
  {
   "cell_type": "code",
   "execution_count": null,
   "id": "2afbbc21",
   "metadata": {},
   "outputs": [],
   "source": []
  },
  {
   "cell_type": "code",
   "execution_count": null,
   "id": "905afb5f",
   "metadata": {},
   "outputs": [],
   "source": []
  },
  {
   "cell_type": "code",
   "execution_count": null,
   "id": "87c50196",
   "metadata": {},
   "outputs": [],
   "source": []
  }
 ],
 "metadata": {
  "kernelspec": {
   "display_name": "Python 3 (ipykernel)",
   "language": "python",
   "name": "python3"
  },
  "language_info": {
   "codemirror_mode": {
    "name": "ipython",
    "version": 3
   },
   "file_extension": ".py",
   "mimetype": "text/x-python",
   "name": "python",
   "nbconvert_exporter": "python",
   "pygments_lexer": "ipython3",
   "version": "3.11.4"
  }
 },
 "nbformat": 4,
 "nbformat_minor": 5
}
